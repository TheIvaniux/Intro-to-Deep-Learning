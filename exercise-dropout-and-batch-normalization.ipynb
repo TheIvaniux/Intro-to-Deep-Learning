{
 "cells": [
  {
   "cell_type": "markdown",
   "id": "9783f1bd",
   "metadata": {
    "papermill": {
     "duration": 0.008159,
     "end_time": "2024-10-02T00:10:57.351666",
     "exception": false,
     "start_time": "2024-10-02T00:10:57.343507",
     "status": "completed"
    },
    "tags": []
   },
   "source": [
    "**This notebook is an exercise in the [Intro to Deep Learning](https://www.kaggle.com/learn/intro-to-deep-learning) course.  You can reference the tutorial at [this link](https://www.kaggle.com/ryanholbrook/dropout-and-batch-normalization).**\n",
    "\n",
    "---\n"
   ]
  },
  {
   "cell_type": "markdown",
   "id": "119b22cc",
   "metadata": {
    "papermill": {
     "duration": 0.007253,
     "end_time": "2024-10-02T00:10:57.366605",
     "exception": false,
     "start_time": "2024-10-02T00:10:57.359352",
     "status": "completed"
    },
    "tags": []
   },
   "source": [
    "# Introduction #\n",
    "\n",
    "In this exercise, you'll add dropout to the *Spotify* model from Exercise 4 and see how batch normalization can let you successfully train models on difficult datasets.\n",
    "\n",
    "Run the next cell to get started!"
   ]
  },
  {
   "cell_type": "code",
   "execution_count": 1,
   "id": "ee9c6002",
   "metadata": {
    "execution": {
     "iopub.execute_input": "2024-10-02T00:10:57.383645Z",
     "iopub.status.busy": "2024-10-02T00:10:57.383233Z",
     "iopub.status.idle": "2024-10-02T00:10:58.431974Z",
     "shell.execute_reply": "2024-10-02T00:10:58.430737Z"
    },
    "papermill": {
     "duration": 1.060423,
     "end_time": "2024-10-02T00:10:58.434840",
     "exception": false,
     "start_time": "2024-10-02T00:10:57.374417",
     "status": "completed"
    },
    "tags": []
   },
   "outputs": [
    {
     "name": "stderr",
     "output_type": "stream",
     "text": [
      "/tmp/ipykernel_18/195640296.py:3: MatplotlibDeprecationWarning: The seaborn styles shipped by Matplotlib are deprecated since 3.6, as they no longer correspond to the styles shipped by seaborn. However, they will remain available as 'seaborn-v0_8-<style>'. Alternatively, directly use the seaborn API instead.\n",
      "  plt.style.use('seaborn-whitegrid')\n"
     ]
    }
   ],
   "source": [
    "# Setup plotting\n",
    "import matplotlib.pyplot as plt\n",
    "plt.style.use('seaborn-whitegrid')\n",
    "# Set Matplotlib defaults\n",
    "plt.rc('figure', autolayout=True)\n",
    "plt.rc('axes', labelweight='bold', labelsize='large',\n",
    "       titleweight='bold', titlesize=18, titlepad=10)\n",
    "plt.rc('animation', html='html5')\n",
    "\n",
    "# Setup feedback system\n",
    "from learntools.core import binder\n",
    "binder.bind(globals())\n",
    "from learntools.deep_learning_intro.ex5 import *"
   ]
  },
  {
   "cell_type": "markdown",
   "id": "80379c8f",
   "metadata": {
    "papermill": {
     "duration": 0.008273,
     "end_time": "2024-10-02T00:10:58.450974",
     "exception": false,
     "start_time": "2024-10-02T00:10:58.442701",
     "status": "completed"
    },
    "tags": []
   },
   "source": [
    "First load the *Spotify* dataset."
   ]
  },
  {
   "cell_type": "code",
   "execution_count": 2,
   "id": "3fc66b72",
   "metadata": {
    "execution": {
     "iopub.execute_input": "2024-10-02T00:10:58.468637Z",
     "iopub.status.busy": "2024-10-02T00:10:58.468062Z",
     "iopub.status.idle": "2024-10-02T00:11:15.967987Z",
     "shell.execute_reply": "2024-10-02T00:11:15.966638Z"
    },
    "papermill": {
     "duration": 17.511677,
     "end_time": "2024-10-02T00:11:15.970511",
     "exception": false,
     "start_time": "2024-10-02T00:10:58.458834",
     "status": "completed"
    },
    "tags": []
   },
   "outputs": [
    {
     "name": "stderr",
     "output_type": "stream",
     "text": [
      "2024-10-02 00:11:02.434961: E external/local_xla/xla/stream_executor/cuda/cuda_dnn.cc:9261] Unable to register cuDNN factory: Attempting to register factory for plugin cuDNN when one has already been registered\n",
      "2024-10-02 00:11:02.435101: E external/local_xla/xla/stream_executor/cuda/cuda_fft.cc:607] Unable to register cuFFT factory: Attempting to register factory for plugin cuFFT when one has already been registered\n",
      "2024-10-02 00:11:02.595347: E external/local_xla/xla/stream_executor/cuda/cuda_blas.cc:1515] Unable to register cuBLAS factory: Attempting to register factory for plugin cuBLAS when one has already been registered\n"
     ]
    },
    {
     "name": "stdout",
     "output_type": "stream",
     "text": [
      "Input shape: [18]\n"
     ]
    }
   ],
   "source": [
    "import pandas as pd\n",
    "from sklearn.preprocessing import StandardScaler, OneHotEncoder\n",
    "from sklearn.compose import make_column_transformer\n",
    "from sklearn.model_selection import GroupShuffleSplit\n",
    "\n",
    "from tensorflow import keras\n",
    "from tensorflow.keras import layers\n",
    "from tensorflow.keras import callbacks\n",
    "\n",
    "spotify = pd.read_csv('../input/dl-course-data/spotify.csv')\n",
    "\n",
    "X = spotify.copy().dropna()\n",
    "y = X.pop('track_popularity')\n",
    "artists = X['track_artist']\n",
    "\n",
    "features_num = ['danceability', 'energy', 'key', 'loudness', 'mode',\n",
    "                'speechiness', 'acousticness', 'instrumentalness',\n",
    "                'liveness', 'valence', 'tempo', 'duration_ms']\n",
    "features_cat = ['playlist_genre']\n",
    "\n",
    "preprocessor = make_column_transformer(\n",
    "    (StandardScaler(), features_num),\n",
    "    (OneHotEncoder(), features_cat),\n",
    ")\n",
    "\n",
    "def group_split(X, y, group, train_size=0.75):\n",
    "    splitter = GroupShuffleSplit(train_size=train_size)\n",
    "    train, test = next(splitter.split(X, y, groups=group))\n",
    "    return (X.iloc[train], X.iloc[test], y.iloc[train], y.iloc[test])\n",
    "\n",
    "X_train, X_valid, y_train, y_valid = group_split(X, y, artists)\n",
    "\n",
    "X_train = preprocessor.fit_transform(X_train)\n",
    "X_valid = preprocessor.transform(X_valid)\n",
    "y_train = y_train / 100\n",
    "y_valid = y_valid / 100\n",
    "\n",
    "input_shape = [X_train.shape[1]]\n",
    "print(\"Input shape: {}\".format(input_shape))"
   ]
  },
  {
   "cell_type": "markdown",
   "id": "67f9eac0",
   "metadata": {
    "papermill": {
     "duration": 0.007645,
     "end_time": "2024-10-02T00:11:15.986672",
     "exception": false,
     "start_time": "2024-10-02T00:11:15.979027",
     "status": "completed"
    },
    "tags": []
   },
   "source": [
    "# 1) Add Dropout to Spotify Model\n",
    "\n",
    "Here is the last model from Exercise 4. Add two dropout layers, one after the `Dense` layer with 128 units, and one after the `Dense` layer with 64 units. Set the dropout rate on both to `0.3`."
   ]
  },
  {
   "cell_type": "code",
   "execution_count": 3,
   "id": "531f7269",
   "metadata": {
    "execution": {
     "iopub.execute_input": "2024-10-02T00:11:16.004911Z",
     "iopub.status.busy": "2024-10-02T00:11:16.004004Z",
     "iopub.status.idle": "2024-10-02T00:11:16.155029Z",
     "shell.execute_reply": "2024-10-02T00:11:16.153886Z"
    },
    "lines_to_next_cell": 2,
    "papermill": {
     "duration": 0.163397,
     "end_time": "2024-10-02T00:11:16.158062",
     "exception": false,
     "start_time": "2024-10-02T00:11:15.994665",
     "status": "completed"
    },
    "tags": []
   },
   "outputs": [
    {
     "data": {
      "application/javascript": [
       "parent.postMessage({\"jupyterEvent\": \"custom.exercise_interaction\", \"data\": {\"outcomeType\": 1, \"valueTowardsCompletion\": 0.25, \"interactionType\": 1, \"questionType\": 2, \"questionId\": \"1_Q1\", \"learnToolsVersion\": \"0.3.4\", \"failureMessage\": \"\", \"exceptionClass\": \"\", \"trace\": \"\"}}, \"*\")"
      ],
      "text/plain": [
       "<IPython.core.display.Javascript object>"
      ]
     },
     "metadata": {},
     "output_type": "display_data"
    },
    {
     "data": {
      "text/markdown": [
       "<span style=\"color:#33cc33\">Correct</span>"
      ],
      "text/plain": [
       "Correct"
      ]
     },
     "metadata": {},
     "output_type": "display_data"
    }
   ],
   "source": [
    "# YOUR CODE HERE: Add two 30% dropout layers, one after 128 and one after 64\n",
    "model = keras.Sequential([\n",
    "    layers.Dense(128, activation='relu', input_shape=input_shape),\n",
    "    layers.Dropout(0.3),\n",
    "    layers.Dense(64, activation='relu'),\n",
    "    layers.Dropout(0.3),\n",
    "    layers.Dense(1)\n",
    "])\n",
    "\n",
    "# Check your answer\n",
    "q_1.check()"
   ]
  },
  {
   "cell_type": "code",
   "execution_count": 4,
   "id": "dfbf86fd",
   "metadata": {
    "execution": {
     "iopub.execute_input": "2024-10-02T00:11:16.177401Z",
     "iopub.status.busy": "2024-10-02T00:11:16.176267Z",
     "iopub.status.idle": "2024-10-02T00:11:16.181622Z",
     "shell.execute_reply": "2024-10-02T00:11:16.180321Z"
    },
    "papermill": {
     "duration": 0.017815,
     "end_time": "2024-10-02T00:11:16.184161",
     "exception": false,
     "start_time": "2024-10-02T00:11:16.166346",
     "status": "completed"
    },
    "tags": []
   },
   "outputs": [],
   "source": [
    "# Lines below will give you a hint or solution code\n",
    "#q_1.hint()\n",
    "#q_1.solution()"
   ]
  },
  {
   "cell_type": "markdown",
   "id": "d1e86c96",
   "metadata": {
    "papermill": {
     "duration": 0.008015,
     "end_time": "2024-10-02T00:11:16.201025",
     "exception": false,
     "start_time": "2024-10-02T00:11:16.193010",
     "status": "completed"
    },
    "tags": []
   },
   "source": [
    "Now run this next cell to train the model see the effect of adding dropout."
   ]
  },
  {
   "cell_type": "code",
   "execution_count": 5,
   "id": "b7b875c0",
   "metadata": {
    "execution": {
     "iopub.execute_input": "2024-10-02T00:11:16.219506Z",
     "iopub.status.busy": "2024-10-02T00:11:16.219072Z",
     "iopub.status.idle": "2024-10-02T00:11:29.895140Z",
     "shell.execute_reply": "2024-10-02T00:11:29.893956Z"
    },
    "papermill": {
     "duration": 13.688302,
     "end_time": "2024-10-02T00:11:29.897755",
     "exception": false,
     "start_time": "2024-10-02T00:11:16.209453",
     "status": "completed"
    },
    "tags": []
   },
   "outputs": [
    {
     "name": "stdout",
     "output_type": "stream",
     "text": [
      "Minimum Validation Loss: 0.1955\n"
     ]
    },
    {
     "data": {
      "image/png": "[encoded data removed]",
      "text/plain": [
       "<Figure size 640x480 with 1 Axes>"
      ]
     },
     "metadata": {},
     "output_type": "display_data"
    }
   ],
   "source": [
    "model.compile(\n",
    "    optimizer='adam',\n",
    "    loss='mae',\n",
    ")\n",
    "history = model.fit(\n",
    "    X_train, y_train,\n",
    "    validation_data=(X_valid, y_valid),\n",
    "    batch_size=512,\n",
    "    epochs=50,\n",
    "    verbose=0,\n",
    ")\n",
    "history_df = pd.DataFrame(history.history)\n",
    "history_df.loc[:, ['loss', 'val_loss']].plot()\n",
    "print(\"Minimum Validation Loss: {:0.4f}\".format(history_df['val_loss'].min()))"
   ]
  },
  {
   "cell_type": "markdown",
   "id": "e840ff96",
   "metadata": {
    "papermill": {
     "duration": 0.00865,
     "end_time": "2024-10-02T00:11:29.916622",
     "exception": false,
     "start_time": "2024-10-02T00:11:29.907972",
     "status": "completed"
    },
    "tags": []
   },
   "source": [
    "# 2) Evaluate Dropout\n",
    "\n",
    "Recall from Exercise 4 that this model tended to overfit the data around epoch 5. Did adding dropout seem to help prevent overfitting this time?"
   ]
  },
  {
   "cell_type": "code",
   "execution_count": 6,
   "id": "65688a9d",
   "metadata": {
    "execution": {
     "iopub.execute_input": "2024-10-02T00:11:29.936185Z",
     "iopub.status.busy": "2024-10-02T00:11:29.935782Z",
     "iopub.status.idle": "2024-10-02T00:11:29.944681Z",
     "shell.execute_reply": "2024-10-02T00:11:29.943501Z"
    },
    "papermill": {
     "duration": 0.021448,
     "end_time": "2024-10-02T00:11:29.946968",
     "exception": false,
     "start_time": "2024-10-02T00:11:29.925520",
     "status": "completed"
    },
    "tags": []
   },
   "outputs": [
    {
     "data": {
      "application/javascript": [
       "parent.postMessage({\"jupyterEvent\": \"custom.exercise_interaction\", \"data\": {\"outcomeType\": 1, \"valueTowardsCompletion\": 0.25, \"interactionType\": 1, \"questionType\": 4, \"questionId\": \"2_Q2\", \"learnToolsVersion\": \"0.3.4\", \"failureMessage\": \"\", \"exceptionClass\": \"\", \"trace\": \"\"}}, \"*\")"
      ],
      "text/plain": [
       "<IPython.core.display.Javascript object>"
      ]
     },
     "metadata": {},
     "output_type": "display_data"
    },
    {
     "data": {
      "text/markdown": [
       "<span style=\"color:#33cc33\">Correct:</span> \n",
       "\n",
       "\n",
       "From the learning curves, you can see that the validation loss remains near a constant minimum even though the training loss continues to decrease. So we can see that adding dropout did prevent overfitting this time. Moreover, by making it harder for the network to fit spurious patterns, dropout may have encouraged the network to seek out more of the true patterns, possibly improving the validation loss some as well).\n"
      ],
      "text/plain": [
       "Correct: \n",
       "\n",
       "\n",
       "From the learning curves, you can see that the validation loss remains near a constant minimum even though the training loss continues to decrease. So we can see that adding dropout did prevent overfitting this time. Moreover, by making it harder for the network to fit spurious patterns, dropout may have encouraged the network to seek out more of the true patterns, possibly improving the validation loss some as well)."
      ]
     },
     "metadata": {},
     "output_type": "display_data"
    }
   ],
   "source": [
    "# View the solution (Run this cell to receive credit!)\n",
    "q_2.check()"
   ]
  },
  {
   "cell_type": "markdown",
   "id": "458f21a7",
   "metadata": {
    "papermill": {
     "duration": 0.009206,
     "end_time": "2024-10-02T00:11:29.965424",
     "exception": false,
     "start_time": "2024-10-02T00:11:29.956218",
     "status": "completed"
    },
    "tags": []
   },
   "source": [
    "Now, we'll switch topics to explore how batch normalization can fix problems in training.\n",
    "\n",
    "Load the *Concrete* dataset. We won't do any standardization this time. This will make the effect of batch normalization much more apparent."
   ]
  },
  {
   "cell_type": "code",
   "execution_count": 7,
   "id": "5b0ecce4",
   "metadata": {
    "execution": {
     "iopub.execute_input": "2024-10-02T00:11:29.985649Z",
     "iopub.status.busy": "2024-10-02T00:11:29.985211Z",
     "iopub.status.idle": "2024-10-02T00:11:30.009360Z",
     "shell.execute_reply": "2024-10-02T00:11:30.008127Z"
    },
    "papermill": {
     "duration": 0.037814,
     "end_time": "2024-10-02T00:11:30.012417",
     "exception": false,
     "start_time": "2024-10-02T00:11:29.974603",
     "status": "completed"
    },
    "tags": []
   },
   "outputs": [],
   "source": [
    "import pandas as pd\n",
    "\n",
    "concrete = pd.read_csv('../input/dl-course-data/concrete.csv')\n",
    "df = concrete.copy()\n",
    "\n",
    "df_train = df.sample(frac=0.7, random_state=0)\n",
    "df_valid = df.drop(df_train.index)\n",
    "\n",
    "X_train = df_train.drop('CompressiveStrength', axis=1)\n",
    "X_valid = df_valid.drop('CompressiveStrength', axis=1)\n",
    "y_train = df_train['CompressiveStrength']\n",
    "y_valid = df_valid['CompressiveStrength']\n",
    "\n",
    "input_shape = [X_train.shape[1]]"
   ]
  },
  {
   "cell_type": "markdown",
   "id": "ba4b1681",
   "metadata": {
    "papermill": {
     "duration": 0.009023,
     "end_time": "2024-10-02T00:11:30.031191",
     "exception": false,
     "start_time": "2024-10-02T00:11:30.022168",
     "status": "completed"
    },
    "tags": []
   },
   "source": [
    "Run the following cell to train the network on the unstandardized *Concrete* data."
   ]
  },
  {
   "cell_type": "code",
   "execution_count": 8,
   "id": "73d91178",
   "metadata": {
    "execution": {
     "iopub.execute_input": "2024-10-02T00:11:30.051976Z",
     "iopub.status.busy": "2024-10-02T00:11:30.051565Z",
     "iopub.status.idle": "2024-10-02T00:11:42.083848Z",
     "shell.execute_reply": "2024-10-02T00:11:42.082629Z"
    },
    "papermill": {
     "duration": 12.045997,
     "end_time": "2024-10-02T00:11:42.086542",
     "exception": false,
     "start_time": "2024-10-02T00:11:30.040545",
     "status": "completed"
    },
    "tags": []
   },
   "outputs": [
    {
     "name": "stdout",
     "output_type": "stream",
     "text": [
      "Minimum Validation Loss: nan\n"
     ]
    },
    {
     "data": {
      "image/png": "[encoded data removed]",
      "text/plain": [
       "<Figure size 640x480 with 1 Axes>"
      ]
     },
     "metadata": {},
     "output_type": "display_data"
    }
   ],
   "source": [
    "model = keras.Sequential([\n",
    "    layers.Dense(512, activation='relu', input_shape=input_shape),\n",
    "    layers.Dense(512, activation='relu'),    \n",
    "    layers.Dense(512, activation='relu'),\n",
    "    layers.Dense(1),\n",
    "])\n",
    "model.compile(\n",
    "    optimizer='sgd', # SGD is more sensitive to differences of scale\n",
    "    loss='mae',\n",
    "    metrics=['mae'],\n",
    ")\n",
    "history = model.fit(\n",
    "    X_train, y_train,\n",
    "    validation_data=(X_valid, y_valid),\n",
    "    batch_size=64,\n",
    "    epochs=100,\n",
    "    verbose=0,\n",
    ")\n",
    "\n",
    "history_df = pd.DataFrame(history.history)\n",
    "history_df.loc[0:, ['loss', 'val_loss']].plot()\n",
    "print((\"Minimum Validation Loss: {:0.4f}\").format(history_df['val_loss'].min()))"
   ]
  },
  {
   "cell_type": "markdown",
   "id": "1d943f55",
   "metadata": {
    "papermill": {
     "duration": 0.009477,
     "end_time": "2024-10-02T00:11:42.106150",
     "exception": false,
     "start_time": "2024-10-02T00:11:42.096673",
     "status": "completed"
    },
    "tags": []
   },
   "source": [
    "Did you end up with a blank graph? Trying to train this network on this dataset will usually fail. Even when it does converge (due to a lucky weight initialization), it tends to converge to a very large number.\n",
    "\n",
    "# 3) Add Batch Normalization Layers\n",
    "\n",
    "Batch normalization can help correct problems like this.\n",
    "\n",
    "Add four `BatchNormalization` layers, one before each of the dense layers. (Remember to move the `input_shape` argument to the new first layer.)"
   ]
  },
  {
   "cell_type": "code",
   "execution_count": 9,
   "id": "18f3d20c",
   "metadata": {
    "execution": {
     "iopub.execute_input": "2024-10-02T00:11:42.128003Z",
     "iopub.status.busy": "2024-10-02T00:11:42.127609Z",
     "iopub.status.idle": "2024-10-02T00:11:42.300776Z",
     "shell.execute_reply": "2024-10-02T00:11:42.299603Z"
    },
    "lines_to_next_cell": 0,
    "papermill": {
     "duration": 0.187621,
     "end_time": "2024-10-02T00:11:42.303605",
     "exception": false,
     "start_time": "2024-10-02T00:11:42.115984",
     "status": "completed"
    },
    "tags": []
   },
   "outputs": [
    {
     "data": {
      "application/javascript": [
       "parent.postMessage({\"jupyterEvent\": \"custom.exercise_interaction\", \"data\": {\"outcomeType\": 1, \"valueTowardsCompletion\": 0.25, \"interactionType\": 1, \"questionType\": 2, \"questionId\": \"3_Q3\", \"learnToolsVersion\": \"0.3.4\", \"failureMessage\": \"\", \"exceptionClass\": \"\", \"trace\": \"\"}}, \"*\")"
      ],
      "text/plain": [
       "<IPython.core.display.Javascript object>"
      ]
     },
     "metadata": {},
     "output_type": "display_data"
    },
    {
     "data": {
      "text/markdown": [
       "<span style=\"color:#33cc33\">Correct</span>"
      ],
      "text/plain": [
       "Correct"
      ]
     },
     "metadata": {},
     "output_type": "display_data"
    }
   ],
   "source": [
    "# YOUR CODE HERE: Add a BatchNormalization layer before each Dense layer\n",
    "model = keras.Sequential([\n",
    "    layers.BatchNormalization(input_shape=input_shape),\n",
    "    layers.Dense(512, activation='relu'),\n",
    "    layers.BatchNormalization(),\n",
    "    layers.Dense(512, activation='relu'),\n",
    "    layers.BatchNormalization(),\n",
    "    layers.Dense(512, activation='relu'),\n",
    "    layers.BatchNormalization(),\n",
    "    layers.Dense(1),\n",
    "])\n",
    "\n",
    "# Check your answer\n",
    "q_3.check()"
   ]
  },
  {
   "cell_type": "code",
   "execution_count": 10,
   "id": "272b468e",
   "metadata": {
    "execution": {
     "iopub.execute_input": "2024-10-02T00:11:42.326642Z",
     "iopub.status.busy": "2024-10-02T00:11:42.326180Z",
     "iopub.status.idle": "2024-10-02T00:11:42.331448Z",
     "shell.execute_reply": "2024-10-02T00:11:42.330292Z"
    },
    "papermill": {
     "duration": 0.019455,
     "end_time": "2024-10-02T00:11:42.334137",
     "exception": false,
     "start_time": "2024-10-02T00:11:42.314682",
     "status": "completed"
    },
    "tags": []
   },
   "outputs": [],
   "source": [
    "# Lines below will give you a hint or solution code\n",
    "#q_3.hint()\n",
    "#q_3.solution()"
   ]
  },
  {
   "cell_type": "markdown",
   "id": "4ec4d4af",
   "metadata": {
    "papermill": {
     "duration": 0.009877,
     "end_time": "2024-10-02T00:11:42.354178",
     "exception": false,
     "start_time": "2024-10-02T00:11:42.344301",
     "status": "completed"
    },
    "tags": []
   },
   "source": [
    "Run the next cell to see if batch normalization will let us train the model."
   ]
  },
  {
   "cell_type": "code",
   "execution_count": 11,
   "id": "8168e3a7",
   "metadata": {
    "execution": {
     "iopub.execute_input": "2024-10-02T00:11:42.376731Z",
     "iopub.status.busy": "2024-10-02T00:11:42.376291Z",
     "iopub.status.idle": "2024-10-02T00:11:56.845933Z",
     "shell.execute_reply": "2024-10-02T00:11:56.844756Z"
    },
    "papermill": {
     "duration": 14.483975,
     "end_time": "2024-10-02T00:11:56.848805",
     "exception": false,
     "start_time": "2024-10-02T00:11:42.364830",
     "status": "completed"
    },
    "tags": []
   },
   "outputs": [
    {
     "name": "stdout",
     "output_type": "stream",
     "text": [
      "Minimum Validation Loss: 4.0516\n"
     ]
    },
    {
     "data": {
      "image/png": "[encoded data removed]",
      "text/plain": [
       "<Figure size 640x480 with 1 Axes>"
      ]
     },
     "metadata": {},
     "output_type": "display_data"
    }
   ],
   "source": [
    "model.compile(\n",
    "    optimizer='sgd',\n",
    "    loss='mae',\n",
    "    metrics=['mae'],\n",
    ")\n",
    "EPOCHS = 100\n",
    "history = model.fit(\n",
    "    X_train, y_train,\n",
    "    validation_data=(X_valid, y_valid),\n",
    "    batch_size=64,\n",
    "    epochs=EPOCHS,\n",
    "    verbose=0,\n",
    ")\n",
    "\n",
    "history_df = pd.DataFrame(history.history)\n",
    "history_df.loc[0:, ['loss', 'val_loss']].plot()\n",
    "print((\"Minimum Validation Loss: {:0.4f}\").format(history_df['val_loss'].min()))"
   ]
  },
  {
   "cell_type": "markdown",
   "id": "53d73b29",
   "metadata": {
    "papermill": {
     "duration": 0.010924,
     "end_time": "2024-10-02T00:11:56.870597",
     "exception": false,
     "start_time": "2024-10-02T00:11:56.859673",
     "status": "completed"
    },
    "tags": []
   },
   "source": [
    "# 4) Evaluate Batch Normalization\n",
    "\n",
    "Did adding batch normalization help?"
   ]
  },
  {
   "cell_type": "code",
   "execution_count": 12,
   "id": "9fd05995",
   "metadata": {
    "execution": {
     "iopub.execute_input": "2024-10-02T00:11:56.893613Z",
     "iopub.status.busy": "2024-10-02T00:11:56.893131Z",
     "iopub.status.idle": "2024-10-02T00:11:56.902577Z",
     "shell.execute_reply": "2024-10-02T00:11:56.901497Z"
    },
    "lines_to_next_cell": 0,
    "papermill": {
     "duration": 0.023806,
     "end_time": "2024-10-02T00:11:56.905025",
     "exception": false,
     "start_time": "2024-10-02T00:11:56.881219",
     "status": "completed"
    },
    "tags": []
   },
   "outputs": [
    {
     "data": {
      "application/javascript": [
       "parent.postMessage({\"jupyterEvent\": \"custom.exercise_interaction\", \"data\": {\"outcomeType\": 1, \"valueTowardsCompletion\": 0.25, \"interactionType\": 1, \"questionType\": 4, \"questionId\": \"4_Q4\", \"learnToolsVersion\": \"0.3.4\", \"failureMessage\": \"\", \"exceptionClass\": \"\", \"trace\": \"\"}}, \"*\")"
      ],
      "text/plain": [
       "<IPython.core.display.Javascript object>"
      ]
     },
     "metadata": {},
     "output_type": "display_data"
    },
    {
     "data": {
      "text/markdown": [
       "<span style=\"color:#33cc33\">Correct:</span> \n",
       "\n",
       "\n",
       "You can see that adding batch normalization was a big improvement on the first attempt! By adaptively scaling the data as it passes through the network, batch normalization can let you train models on difficult datasets.\n"
      ],
      "text/plain": [
       "Correct: \n",
       "\n",
       "\n",
       "You can see that adding batch normalization was a big improvement on the first attempt! By adaptively scaling the data as it passes through the network, batch normalization can let you train models on difficult datasets."
      ]
     },
     "metadata": {},
     "output_type": "display_data"
    }
   ],
   "source": [
    "# View the solution (Run this cell to receive credit!)\n",
    "q_4.check()"
   ]
  },
  {
   "cell_type": "markdown",
   "id": "b16871ab",
   "metadata": {
    "papermill": {
     "duration": 0.011165,
     "end_time": "2024-10-02T00:11:56.927829",
     "exception": false,
     "start_time": "2024-10-02T00:11:56.916664",
     "status": "completed"
    },
    "tags": []
   },
   "source": [
    "# Keep Going #\n",
    "\n",
    "[**Create neural networks**](https://www.kaggle.com/ryanholbrook/binary-classification) for binary classification."
   ]
  },
  {
   "cell_type": "markdown",
   "id": "6515567d",
   "metadata": {
    "papermill": {
     "duration": 0.010779,
     "end_time": "2024-10-02T00:11:56.949702",
     "exception": false,
     "start_time": "2024-10-02T00:11:56.938923",
     "status": "completed"
    },
    "tags": []
   },
   "source": [
    "---\n",
    "\n",
    "\n",
    "\n",
    "\n",
    "*Have questions or comments? Visit the [course discussion forum](https://www.kaggle.com/learn/intro-to-deep-learning/discussion) to chat with other learners.*"
   ]
  }
 ],
 "metadata": {
  "jupytext": {
   "cell_metadata_filter": "-all",
   "formats": "ipynb"
  },
  "kaggle": {
   "accelerator": "gpu",
   "dataSources": [
    {
     "datasetId": 829369,
     "sourceId": 1480608,
     "sourceType": "datasetVersion"
    }
   ],
   "dockerImageVersionId": 30648,
   "isGpuEnabled": true,
   "isInternetEnabled": false,
   "language": "python",
   "sourceType": "notebook"
  },
  "kernelspec": {
   "display_name": "Python 3",
   "language": "python",
   "name": "python3"
  },
  "language_info": {
   "codemirror_mode": {
    "name": "ipython",
    "version": 3
   },
   "file_extension": ".py",
   "mimetype": "text/x-python",
   "name": "python",
   "nbconvert_exporter": "python",
   "pygments_lexer": "ipython3",
   "version": "3.10.13"
  },
  "papermill": {
   "default_parameters": {},
   "duration": 65.678342,
   "end_time": "2024-10-02T00:11:59.374229",
   "environment_variables": {},
   "exception": null,
   "input_path": "__notebook__.ipynb",
   "output_path": "__notebook__.ipynb",
   "parameters": {},
   "start_time": "2024-10-02T00:10:53.695887",
   "version": "2.5.0"
  }
 },
 "nbformat": 4,
 "nbformat_minor": 5
}
