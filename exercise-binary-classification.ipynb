{
 "cells": [
  {
   "cell_type": "markdown",
   "id": "79b04f9e",
   "metadata": {
    "papermill": {
     "duration": 0.005884,
     "end_time": "2024-10-02T00:11:06.640747",
     "exception": false,
     "start_time": "2024-10-02T00:11:06.634863",
     "status": "completed"
    },
    "tags": []
   },
   "source": [
    "**This notebook is an exercise in the [Intro to Deep Learning](https://www.kaggle.com/learn/intro-to-deep-learning) course.  You can reference the tutorial at [this link](https://www.kaggle.com/ryanholbrook/binary-classification).**\n",
    "\n",
    "---\n"
   ]
  },
  {
   "cell_type": "markdown",
   "id": "40d68531",
   "metadata": {
    "papermill": {
     "duration": 0.005133,
     "end_time": "2024-10-02T00:11:06.651684",
     "exception": false,
     "start_time": "2024-10-02T00:11:06.646551",
     "status": "completed"
    },
    "tags": []
   },
   "source": [
    "# Introduction #\n",
    "\n",
    "In this exercise, you'll build a model to predict hotel cancellations with a binary classifier."
   ]
  },
  {
   "cell_type": "code",
   "execution_count": 1,
   "id": "6062350e",
   "metadata": {
    "execution": {
     "iopub.execute_input": "2024-10-02T00:11:06.664242Z",
     "iopub.status.busy": "2024-10-02T00:11:06.663814Z",
     "iopub.status.idle": "2024-10-02T00:11:07.612052Z",
     "shell.execute_reply": "2024-10-02T00:11:07.610843Z"
    },
    "lines_to_next_cell": 0,
    "papermill": {
     "duration": 0.957792,
     "end_time": "2024-10-02T00:11:07.614905",
     "exception": false,
     "start_time": "2024-10-02T00:11:06.657113",
     "status": "completed"
    },
    "tags": []
   },
   "outputs": [
    {
     "name": "stderr",
     "output_type": "stream",
     "text": [
      "/tmp/ipykernel_18/3338970720.py:3: MatplotlibDeprecationWarning: The seaborn styles shipped by Matplotlib are deprecated since 3.6, as they no longer correspond to the styles shipped by seaborn. However, they will remain available as 'seaborn-v0_8-<style>'. Alternatively, directly use the seaborn API instead.\n",
      "  plt.style.use('seaborn-whitegrid')\n"
     ]
    }
   ],
   "source": [
    "# Setup plotting\n",
    "import matplotlib.pyplot as plt\n",
    "plt.style.use('seaborn-whitegrid')\n",
    "# Set Matplotlib defaults\n",
    "plt.rc('figure', autolayout=True)\n",
    "plt.rc('axes', labelweight='bold', labelsize='large',\n",
    "       titleweight='bold', titlesize=18, titlepad=10)\n",
    "plt.rc('animation', html='html5')\n",
    "\n",
    "# Setup feedback system\n",
    "from learntools.core import binder\n",
    "binder.bind(globals())\n",
    "from learntools.deep_learning_intro.ex6 import *"
   ]
  },
  {
   "cell_type": "markdown",
   "id": "9eadd95d",
   "metadata": {
    "papermill": {
     "duration": 0.00525,
     "end_time": "2024-10-02T00:11:07.625890",
     "exception": false,
     "start_time": "2024-10-02T00:11:07.620640",
     "status": "completed"
    },
    "tags": []
   },
   "source": [
    "First, load the *Hotel Cancellations* dataset."
   ]
  },
  {
   "cell_type": "code",
   "execution_count": 2,
   "id": "3e4a5434",
   "metadata": {
    "execution": {
     "iopub.execute_input": "2024-10-02T00:11:07.638938Z",
     "iopub.status.busy": "2024-10-02T00:11:07.638417Z",
     "iopub.status.idle": "2024-10-02T00:11:10.915350Z",
     "shell.execute_reply": "2024-10-02T00:11:10.914269Z"
    },
    "lines_to_next_cell": 2,
    "papermill": {
     "duration": 3.286811,
     "end_time": "2024-10-02T00:11:10.918265",
     "exception": false,
     "start_time": "2024-10-02T00:11:07.631454",
     "status": "completed"
    },
    "tags": []
   },
   "outputs": [],
   "source": [
    "import pandas as pd\n",
    "\n",
    "from sklearn.model_selection import train_test_split\n",
    "from sklearn.preprocessing import StandardScaler, OneHotEncoder\n",
    "from sklearn.impute import SimpleImputer\n",
    "from sklearn.pipeline import make_pipeline\n",
    "from sklearn.compose import make_column_transformer\n",
    "\n",
    "hotel = pd.read_csv('../input/dl-course-data/hotel.csv')\n",
    "\n",
    "X = hotel.copy()\n",
    "y = X.pop('is_canceled')\n",
    "\n",
    "X['arrival_date_month'] = \\\n",
    "    X['arrival_date_month'].map(\n",
    "        {'January':1, 'February': 2, 'March':3,\n",
    "         'April':4, 'May':5, 'June':6, 'July':7,\n",
    "         'August':8, 'September':9, 'October':10,\n",
    "         'November':11, 'December':12}\n",
    "    )\n",
    "\n",
    "features_num = [\n",
    "    \"lead_time\", \"arrival_date_week_number\",\n",
    "    \"arrival_date_day_of_month\", \"stays_in_weekend_nights\",\n",
    "    \"stays_in_week_nights\", \"adults\", \"children\", \"babies\",\n",
    "    \"is_repeated_guest\", \"previous_cancellations\",\n",
    "    \"previous_bookings_not_canceled\", \"required_car_parking_spaces\",\n",
    "    \"total_of_special_requests\", \"adr\",\n",
    "]\n",
    "features_cat = [\n",
    "    \"hotel\", \"arrival_date_month\", \"meal\",\n",
    "    \"market_segment\", \"distribution_channel\",\n",
    "    \"reserved_room_type\", \"deposit_type\", \"customer_type\",\n",
    "]\n",
    "\n",
    "transformer_num = make_pipeline(\n",
    "    SimpleImputer(strategy=\"constant\"), # there are a few missing values\n",
    "    StandardScaler(),\n",
    ")\n",
    "transformer_cat = make_pipeline(\n",
    "    SimpleImputer(strategy=\"constant\", fill_value=\"NA\"),\n",
    "    OneHotEncoder(handle_unknown='ignore'),\n",
    ")\n",
    "\n",
    "preprocessor = make_column_transformer(\n",
    "    (transformer_num, features_num),\n",
    "    (transformer_cat, features_cat),\n",
    ")\n",
    "\n",
    "# stratify - make sure classes are evenlly represented across splits\n",
    "X_train, X_valid, y_train, y_valid = \\\n",
    "    train_test_split(X, y, stratify=y, train_size=0.75)\n",
    "\n",
    "X_train = preprocessor.fit_transform(X_train)\n",
    "X_valid = preprocessor.transform(X_valid)\n",
    "\n",
    "input_shape = [X_train.shape[1]]"
   ]
  },
  {
   "cell_type": "markdown",
   "id": "0a92e53d",
   "metadata": {
    "papermill": {
     "duration": 0.005388,
     "end_time": "2024-10-02T00:11:10.929399",
     "exception": false,
     "start_time": "2024-10-02T00:11:10.924011",
     "status": "completed"
    },
    "tags": []
   },
   "source": [
    "# 1) Define Model #\n",
    "\n",
    "The model we'll use this time will have both batch normalization and dropout layers. To ease reading we've broken the diagram into blocks, but you can define it layer by layer as usual.\n",
    "\n",
    "Define a model with an architecture given by this diagram:\n",
    "\n",
    "<figure style=\"padding: 1em;\">\n",
    "<img src=\"https://storage.googleapis.com/kaggle-media/learn/images/V04o59Z.png\" width=\"400\" alt=\"Diagram of network architecture: BatchNorm, Dense, BatchNorm, Dropout, Dense, BatchNorm, Dropout, Dense.\">\n",
    "<figcaption style=\"textalign: center; font-style: italic\"><center>Diagram of a binary classifier.</center></figcaption>\n",
    "</figure>\n"
   ]
  },
  {
   "cell_type": "code",
   "execution_count": 3,
   "id": "610e11ac",
   "metadata": {
    "execution": {
     "iopub.execute_input": "2024-10-02T00:11:10.942416Z",
     "iopub.status.busy": "2024-10-02T00:11:10.941995Z",
     "iopub.status.idle": "2024-10-02T00:11:25.754432Z",
     "shell.execute_reply": "2024-10-02T00:11:25.753304Z"
    },
    "lines_to_next_cell": 2,
    "papermill": {
     "duration": 14.822365,
     "end_time": "2024-10-02T00:11:25.757338",
     "exception": false,
     "start_time": "2024-10-02T00:11:10.934973",
     "status": "completed"
    },
    "tags": []
   },
   "outputs": [
    {
     "name": "stderr",
     "output_type": "stream",
     "text": [
      "2024-10-02 00:11:13.166606: E external/local_xla/xla/stream_executor/cuda/cuda_dnn.cc:9261] Unable to register cuDNN factory: Attempting to register factory for plugin cuDNN when one has already been registered\n",
      "2024-10-02 00:11:13.166787: E external/local_xla/xla/stream_executor/cuda/cuda_fft.cc:607] Unable to register cuFFT factory: Attempting to register factory for plugin cuFFT when one has already been registered\n",
      "2024-10-02 00:11:13.332659: E external/local_xla/xla/stream_executor/cuda/cuda_blas.cc:1515] Unable to register cuBLAS factory: Attempting to register factory for plugin cuBLAS when one has already been registered\n"
     ]
    },
    {
     "data": {
      "application/javascript": [
       "parent.postMessage({\"jupyterEvent\": \"custom.exercise_interaction\", \"data\": {\"outcomeType\": 1, \"valueTowardsCompletion\": 0.3333333333333333, \"interactionType\": 1, \"questionType\": 2, \"questionId\": \"1_Q1\", \"learnToolsVersion\": \"0.3.4\", \"failureMessage\": \"\", \"exceptionClass\": \"\", \"trace\": \"\"}}, \"*\")"
      ],
      "text/plain": [
       "<IPython.core.display.Javascript object>"
      ]
     },
     "metadata": {},
     "output_type": "display_data"
    },
    {
     "data": {
      "text/markdown": [
       "<span style=\"color:#33cc33\">Correct</span>"
      ],
      "text/plain": [
       "Correct"
      ]
     },
     "metadata": {},
     "output_type": "display_data"
    }
   ],
   "source": [
    "from tensorflow import keras\n",
    "from tensorflow.keras import layers\n",
    "\n",
    "# YOUR CODE HERE: define the model given in the diagram\n",
    "model = keras.Sequential([\n",
    "    layers.BatchNormalization(input_shape=input_shape),\n",
    "    layers.Dense(256, activation='relu'),\n",
    "    layers.BatchNormalization(),\n",
    "    layers.Dropout(0.3),\n",
    "    layers.Dense(256, activation='relu'),\n",
    "    layers.BatchNormalization(),\n",
    "    layers.Dropout(0.3),\n",
    "    layers.Dense(1, activation='sigmoid'),\n",
    "])\n",
    "\n",
    "# Check your answer\n",
    "q_1.check()"
   ]
  },
  {
   "cell_type": "markdown",
   "id": "d84d8971",
   "metadata": {
    "papermill": {
     "duration": 0.006199,
     "end_time": "2024-10-02T00:11:25.769495",
     "exception": false,
     "start_time": "2024-10-02T00:11:25.763296",
     "status": "completed"
    },
    "tags": []
   },
   "source": [
    "# 2) Add Optimizer, Loss, and Metric #\n",
    "\n",
    "Now compile the model with the Adam optimizer and binary versions of the cross-entropy loss and accuracy metric."
   ]
  },
  {
   "cell_type": "code",
   "execution_count": 4,
   "id": "563b3535",
   "metadata": {
    "execution": {
     "iopub.execute_input": "2024-10-02T00:11:25.783155Z",
     "iopub.status.busy": "2024-10-02T00:11:25.782743Z",
     "iopub.status.idle": "2024-10-02T00:11:25.809044Z",
     "shell.execute_reply": "2024-10-02T00:11:25.807987Z"
    },
    "lines_to_next_cell": 0,
    "papermill": {
     "duration": 0.036092,
     "end_time": "2024-10-02T00:11:25.811549",
     "exception": false,
     "start_time": "2024-10-02T00:11:25.775457",
     "status": "completed"
    },
    "tags": []
   },
   "outputs": [
    {
     "data": {
      "application/javascript": [
       "parent.postMessage({\"jupyterEvent\": \"custom.exercise_interaction\", \"data\": {\"outcomeType\": 1, \"valueTowardsCompletion\": 0.3333333333333333, \"interactionType\": 1, \"questionType\": 2, \"questionId\": \"2_Q2\", \"learnToolsVersion\": \"0.3.4\", \"failureMessage\": \"\", \"exceptionClass\": \"\", \"trace\": \"\"}}, \"*\")"
      ],
      "text/plain": [
       "<IPython.core.display.Javascript object>"
      ]
     },
     "metadata": {},
     "output_type": "display_data"
    },
    {
     "data": {
      "text/markdown": [
       "<span style=\"color:#33cc33\">Correct</span>"
      ],
      "text/plain": [
       "Correct"
      ]
     },
     "metadata": {},
     "output_type": "display_data"
    }
   ],
   "source": [
    "# YOUR CODE HERE\n",
    "model.compile(\n",
    "    optimizer='adam',\n",
    "    loss='binary_crossentropy',\n",
    "    metrics=['binary_accuracy'],\n",
    ")\n",
    "\n",
    "# Check your answer\n",
    "q_2.check()"
   ]
  },
  {
   "cell_type": "code",
   "execution_count": 5,
   "id": "8aab1a10",
   "metadata": {
    "execution": {
     "iopub.execute_input": "2024-10-02T00:11:25.826192Z",
     "iopub.status.busy": "2024-10-02T00:11:25.825713Z",
     "iopub.status.idle": "2024-10-02T00:11:25.830594Z",
     "shell.execute_reply": "2024-10-02T00:11:25.829326Z"
    },
    "lines_to_next_cell": 0,
    "papermill": {
     "duration": 0.015109,
     "end_time": "2024-10-02T00:11:25.833001",
     "exception": false,
     "start_time": "2024-10-02T00:11:25.817892",
     "status": "completed"
    },
    "tags": []
   },
   "outputs": [],
   "source": [
    "# Lines below will give you a hint or solution code\n",
    "#q_2.hint()\n",
    "#q_2.solution()"
   ]
  },
  {
   "cell_type": "markdown",
   "id": "2379692d",
   "metadata": {
    "papermill": {
     "duration": 0.005972,
     "end_time": "2024-10-02T00:11:25.845414",
     "exception": false,
     "start_time": "2024-10-02T00:11:25.839442",
     "status": "completed"
    },
    "tags": []
   },
   "source": [
    "Finally, run this cell to train the model and view the learning curves. It may run for around 60 to 70 epochs, which could take a minute or two."
   ]
  },
  {
   "cell_type": "code",
   "execution_count": 6,
   "id": "52233953",
   "metadata": {
    "execution": {
     "iopub.execute_input": "2024-10-02T00:11:25.860194Z",
     "iopub.status.busy": "2024-10-02T00:11:25.859766Z",
     "iopub.status.idle": "2024-10-02T00:12:27.403633Z",
     "shell.execute_reply": "2024-10-02T00:12:27.402384Z"
    },
    "papermill": {
     "duration": 61.554475,
     "end_time": "2024-10-02T00:12:27.406313",
     "exception": false,
     "start_time": "2024-10-02T00:11:25.851838",
     "status": "completed"
    },
    "tags": []
   },
   "outputs": [
    {
     "name": "stdout",
     "output_type": "stream",
     "text": [
      "Epoch 1/200\n",
      "175/175 [==============================] - 4s 14ms/step - loss: 0.4819 - binary_accuracy: 0.7728 - val_loss: 0.4346 - val_binary_accuracy: 0.7998\n",
      "Epoch 2/200\n",
      "175/175 [==============================] - 2s 12ms/step - loss: 0.4236 - binary_accuracy: 0.8007 - val_loss: 0.4031 - val_binary_accuracy: 0.8062\n",
      "Epoch 3/200\n",
      "175/175 [==============================] - 2s 12ms/step - loss: 0.4113 - binary_accuracy: 0.8066 - val_loss: 0.3911 - val_binary_accuracy: 0.8174\n",
      "Epoch 4/200\n",
      "175/175 [==============================] - 2s 12ms/step - loss: 0.4034 - binary_accuracy: 0.8124 - val_loss: 0.3859 - val_binary_accuracy: 0.8208\n",
      "Epoch 5/200\n",
      "175/175 [==============================] - 2s 12ms/step - loss: 0.3978 - binary_accuracy: 0.8145 - val_loss: 0.3819 - val_binary_accuracy: 0.8245\n",
      "Epoch 6/200\n",
      "175/175 [==============================] - 2s 13ms/step - loss: 0.3937 - binary_accuracy: 0.8164 - val_loss: 0.3776 - val_binary_accuracy: 0.8259\n",
      "Epoch 7/200\n",
      "175/175 [==============================] - 2s 12ms/step - loss: 0.3896 - binary_accuracy: 0.8176 - val_loss: 0.3757 - val_binary_accuracy: 0.8262\n",
      "Epoch 8/200\n",
      "175/175 [==============================] - 2s 14ms/step - loss: 0.3857 - binary_accuracy: 0.8217 - val_loss: 0.3730 - val_binary_accuracy: 0.8291\n",
      "Epoch 9/200\n",
      "175/175 [==============================] - 2s 13ms/step - loss: 0.3837 - binary_accuracy: 0.8218 - val_loss: 0.3699 - val_binary_accuracy: 0.8328\n",
      "Epoch 10/200\n",
      "175/175 [==============================] - 2s 13ms/step - loss: 0.3804 - binary_accuracy: 0.8232 - val_loss: 0.3672 - val_binary_accuracy: 0.8330\n",
      "Epoch 11/200\n",
      "175/175 [==============================] - 2s 12ms/step - loss: 0.3785 - binary_accuracy: 0.8247 - val_loss: 0.3700 - val_binary_accuracy: 0.8336\n",
      "Epoch 12/200\n",
      "175/175 [==============================] - 2s 13ms/step - loss: 0.3742 - binary_accuracy: 0.8266 - val_loss: 0.3644 - val_binary_accuracy: 0.8329\n",
      "Epoch 13/200\n",
      "175/175 [==============================] - 2s 13ms/step - loss: 0.3728 - binary_accuracy: 0.8270 - val_loss: 0.3632 - val_binary_accuracy: 0.8346\n",
      "Epoch 14/200\n",
      "175/175 [==============================] - 2s 13ms/step - loss: 0.3704 - binary_accuracy: 0.8280 - val_loss: 0.3622 - val_binary_accuracy: 0.8359\n",
      "Epoch 15/200\n",
      "175/175 [==============================] - 2s 13ms/step - loss: 0.3685 - binary_accuracy: 0.8285 - val_loss: 0.3605 - val_binary_accuracy: 0.8352\n",
      "Epoch 16/200\n",
      "175/175 [==============================] - 2s 13ms/step - loss: 0.3668 - binary_accuracy: 0.8301 - val_loss: 0.3635 - val_binary_accuracy: 0.8360\n",
      "Epoch 17/200\n",
      "175/175 [==============================] - 2s 13ms/step - loss: 0.3658 - binary_accuracy: 0.8310 - val_loss: 0.3570 - val_binary_accuracy: 0.8377\n",
      "Epoch 18/200\n",
      "175/175 [==============================] - 2s 12ms/step - loss: 0.3621 - binary_accuracy: 0.8335 - val_loss: 0.3571 - val_binary_accuracy: 0.8362\n",
      "Epoch 19/200\n",
      "175/175 [==============================] - 2s 13ms/step - loss: 0.3616 - binary_accuracy: 0.8327 - val_loss: 0.3575 - val_binary_accuracy: 0.8375\n",
      "Epoch 20/200\n",
      "175/175 [==============================] - 2s 13ms/step - loss: 0.3606 - binary_accuracy: 0.8326 - val_loss: 0.3590 - val_binary_accuracy: 0.8353\n",
      "Epoch 21/200\n",
      "175/175 [==============================] - 2s 13ms/step - loss: 0.3586 - binary_accuracy: 0.8349 - val_loss: 0.3533 - val_binary_accuracy: 0.8383\n",
      "Epoch 22/200\n",
      "175/175 [==============================] - 2s 13ms/step - loss: 0.3572 - binary_accuracy: 0.8349 - val_loss: 0.3530 - val_binary_accuracy: 0.8396\n",
      "Epoch 23/200\n",
      "175/175 [==============================] - 2s 14ms/step - loss: 0.3552 - binary_accuracy: 0.8355 - val_loss: 0.3559 - val_binary_accuracy: 0.8380\n",
      "Epoch 24/200\n",
      "175/175 [==============================] - 2s 13ms/step - loss: 0.3541 - binary_accuracy: 0.8359 - val_loss: 0.3527 - val_binary_accuracy: 0.8389\n",
      "Epoch 25/200\n",
      "175/175 [==============================] - 2s 13ms/step - loss: 0.3535 - binary_accuracy: 0.8362 - val_loss: 0.3537 - val_binary_accuracy: 0.8395\n",
      "Epoch 26/200\n",
      "175/175 [==============================] - 2s 13ms/step - loss: 0.3517 - binary_accuracy: 0.8386 - val_loss: 0.3544 - val_binary_accuracy: 0.8401\n"
     ]
    },
    {
     "data": {
      "text/plain": [
       "<Axes: title={'center': 'Accuracy'}>"
      ]
     },
     "execution_count": 6,
     "metadata": {},
     "output_type": "execute_result"
    },
    {
     "data": {
      "image/png": "[encoded data removed]",
      "text/plain": [
       "<Figure size 640x480 with 1 Axes>"
      ]
     },
     "metadata": {},
     "output_type": "display_data"
    },
    {
     "data": {
      "image/png": "[encoded data removed]",
      "text/plain": [
       "<Figure size 640x480 with 1 Axes>"
      ]
     },
     "metadata": {},
     "output_type": "display_data"
    }
   ],
   "source": [
    "early_stopping = keras.callbacks.EarlyStopping(\n",
    "    patience=5,\n",
    "    min_delta=0.001,\n",
    "    restore_best_weights=True,\n",
    ")\n",
    "history = model.fit(\n",
    "    X_train, y_train,\n",
    "    validation_data=(X_valid, y_valid),\n",
    "    batch_size=512,\n",
    "    epochs=200,\n",
    "    callbacks=[early_stopping],\n",
    ")\n",
    "\n",
    "history_df = pd.DataFrame(history.history)\n",
    "history_df.loc[:, ['loss', 'val_loss']].plot(title=\"Cross-entropy\")\n",
    "history_df.loc[:, ['binary_accuracy', 'val_binary_accuracy']].plot(title=\"Accuracy\")"
   ]
  },
  {
   "cell_type": "markdown",
   "id": "5ec6d022",
   "metadata": {
    "papermill": {
     "duration": 0.100533,
     "end_time": "2024-10-02T00:12:27.605387",
     "exception": false,
     "start_time": "2024-10-02T00:12:27.504854",
     "status": "completed"
    },
    "tags": []
   },
   "source": [
    "# 3) Train and Evaluate #\n",
    "\n",
    "\n",
    "What do you think about the learning curves? Does it look like the model underfit or overfit? Was the cross-entropy loss a good stand-in for accuracy?"
   ]
  },
  {
   "cell_type": "code",
   "execution_count": 7,
   "id": "bb378802",
   "metadata": {
    "execution": {
     "iopub.execute_input": "2024-10-02T00:12:27.807318Z",
     "iopub.status.busy": "2024-10-02T00:12:27.806908Z",
     "iopub.status.idle": "2024-10-02T00:12:27.816322Z",
     "shell.execute_reply": "2024-10-02T00:12:27.815332Z"
    },
    "papermill": {
     "duration": 0.114597,
     "end_time": "2024-10-02T00:12:27.818717",
     "exception": false,
     "start_time": "2024-10-02T00:12:27.704120",
     "status": "completed"
    },
    "tags": []
   },
   "outputs": [
    {
     "data": {
      "application/javascript": [
       "parent.postMessage({\"jupyterEvent\": \"custom.exercise_interaction\", \"data\": {\"outcomeType\": 1, \"valueTowardsCompletion\": 0.3333333333333333, \"interactionType\": 1, \"questionType\": 4, \"questionId\": \"3_Q3\", \"learnToolsVersion\": \"0.3.4\", \"failureMessage\": \"\", \"exceptionClass\": \"\", \"trace\": \"\"}}, \"*\")"
      ],
      "text/plain": [
       "<IPython.core.display.Javascript object>"
      ]
     },
     "metadata": {},
     "output_type": "display_data"
    },
    {
     "data": {
      "text/markdown": [
       "<span style=\"color:#33cc33\">Correct:</span> \n",
       "\n",
       "Though we can see the training loss continuing to fall, the early stopping callback prevented any overfitting. Moreover, the accuracy rose at the same rate as the cross-entropy fell, so it appears that minimizing cross-entropy was a good stand-in. All in all, it looks like this training was a success!"
      ],
      "text/plain": [
       "Correct: \n",
       "\n",
       "Though we can see the training loss continuing to fall, the early stopping callback prevented any overfitting. Moreover, the accuracy rose at the same rate as the cross-entropy fell, so it appears that minimizing cross-entropy was a good stand-in. All in all, it looks like this training was a success!"
      ]
     },
     "metadata": {},
     "output_type": "display_data"
    }
   ],
   "source": [
    "# View the solution (Run this cell to receive credit!)\n",
    "q_3.check()"
   ]
  },
  {
   "cell_type": "markdown",
   "id": "60496b84",
   "metadata": {
    "papermill": {
     "duration": 0.16404,
     "end_time": "2024-10-02T00:12:28.081777",
     "exception": false,
     "start_time": "2024-10-02T00:12:27.917737",
     "status": "completed"
    },
    "tags": []
   },
   "source": [
    "# Conclusion #\n",
    "\n",
    "Congratulations! You've completed Kaggle's *Introduction to Deep Learning* course!\n",
    "\n",
    "With your new skills you're ready to take on more advanced applications like computer vision and sentiment classification. What would you like to do next?\n",
    "\n",
    "Why not try one of our *Getting Started* competitions?\n",
    "\n",
    "- Classify images with TPUs in [**Petals to the Metal**](https://www.kaggle.com/c/tpu-getting-started)\n",
    "- Create art with GANs in [**I'm Something of a Painter Myself**](https://www.kaggle.com/c/gan-getting-started)\n",
    "- Classify Tweets in [**Real or Not? NLP with Disaster Tweets**](https://www.kaggle.com/c/nlp-getting-started)\n",
    "- Detect contradiction and entailment in [**Contradictory, My Dear Watson**](https://www.kaggle.com/c/contradictory-my-dear-watson)\n",
    "\n",
    "Until next time, Kagglers!"
   ]
  },
  {
   "cell_type": "markdown",
   "id": "88d08568",
   "metadata": {
    "papermill": {
     "duration": 0.099049,
     "end_time": "2024-10-02T00:12:28.279868",
     "exception": false,
     "start_time": "2024-10-02T00:12:28.180819",
     "status": "completed"
    },
    "tags": []
   },
   "source": [
    "---\n",
    "\n",
    "\n",
    "\n",
    "\n",
    "*Have questions or comments? Visit the [course discussion forum](https://www.kaggle.com/learn/intro-to-deep-learning/discussion) to chat with other learners.*"
   ]
  }
 ],
 "metadata": {
  "jupytext": {
   "cell_metadata_filter": "-all",
   "formats": "ipynb"
  },
  "kaggle": {
   "accelerator": "gpu",
   "dataSources": [
    {
     "datasetId": 829369,
     "sourceId": 1480608,
     "sourceType": "datasetVersion"
    }
   ],
   "dockerImageVersionId": 30648,
   "isGpuEnabled": true,
   "isInternetEnabled": false,
   "language": "python",
   "sourceType": "notebook"
  },
  "kernelspec": {
   "display_name": "Python 3",
   "language": "python",
   "name": "python3"
  },
  "language_info": {
   "codemirror_mode": {
    "name": "ipython",
    "version": 3
   },
   "file_extension": ".py",
   "mimetype": "text/x-python",
   "name": "python",
   "nbconvert_exporter": "python",
   "pygments_lexer": "ipython3",
   "version": "3.10.13"
  },
  "papermill": {
   "default_parameters": {},
   "duration": 87.587884,
   "end_time": "2024-10-02T00:12:30.734457",
   "environment_variables": {},
   "exception": null,
   "input_path": "__notebook__.ipynb",
   "output_path": "__notebook__.ipynb",
   "parameters": {},
   "start_time": "2024-10-02T00:11:03.146573",
   "version": "2.5.0"
  }
 },
 "nbformat": 4,
 "nbformat_minor": 5
}
