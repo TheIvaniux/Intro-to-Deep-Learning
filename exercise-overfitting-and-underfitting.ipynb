{
 "cells": [
  {
   "cell_type": "markdown",
   "id": "40fff5de",
   "metadata": {
    "papermill": {
     "duration": 0.006288,
     "end_time": "2024-10-02T00:10:40.335475",
     "exception": false,
     "start_time": "2024-10-02T00:10:40.329187",
     "status": "completed"
    },
    "tags": []
   },
   "source": [
    "**This notebook is an exercise in the [Intro to Deep Learning](https://www.kaggle.com/learn/intro-to-deep-learning) course.  You can reference the tutorial at [this link](https://www.kaggle.com/ryanholbrook/overfitting-and-underfitting).**\n",
    "\n",
    "---\n"
   ]
  },
  {
   "cell_type": "markdown",
   "id": "1103821d",
   "metadata": {
    "papermill": {
     "duration": 0.005531,
     "end_time": "2024-10-02T00:10:40.346539",
     "exception": false,
     "start_time": "2024-10-02T00:10:40.341008",
     "status": "completed"
    },
    "tags": []
   },
   "source": [
    "# Introduction #\n",
    "\n",
    "In this exercise, you’ll learn how to improve training outcomes by including an early stopping callback to prevent overfitting.\n",
    "\n",
    "When you're ready, run this next cell to set everything up!"
   ]
  },
  {
   "cell_type": "code",
   "execution_count": 1,
   "id": "7ac540fc",
   "metadata": {
    "execution": {
     "iopub.execute_input": "2024-10-02T00:10:40.359615Z",
     "iopub.status.busy": "2024-10-02T00:10:40.359173Z",
     "iopub.status.idle": "2024-10-02T00:10:41.507019Z",
     "shell.execute_reply": "2024-10-02T00:10:41.505671Z"
    },
    "papermill": {
     "duration": 1.157882,
     "end_time": "2024-10-02T00:10:41.510086",
     "exception": false,
     "start_time": "2024-10-02T00:10:40.352204",
     "status": "completed"
    },
    "tags": []
   },
   "outputs": [
    {
     "name": "stderr",
     "output_type": "stream",
     "text": [
      "/tmp/ipykernel_18/1500229236.py:3: MatplotlibDeprecationWarning: The seaborn styles shipped by Matplotlib are deprecated since 3.6, as they no longer correspond to the styles shipped by seaborn. However, they will remain available as 'seaborn-v0_8-<style>'. Alternatively, directly use the seaborn API instead.\n",
      "  plt.style.use('seaborn-whitegrid')\n"
     ]
    }
   ],
   "source": [
    "# Setup plotting\n",
    "import matplotlib.pyplot as plt\n",
    "plt.style.use('seaborn-whitegrid')\n",
    "# Set Matplotlib defaults\n",
    "plt.rc('figure', autolayout=True)\n",
    "plt.rc('axes', labelweight='bold', labelsize='large',\n",
    "       titleweight='bold', titlesize=18, titlepad=10)\n",
    "plt.rc('animation', html='html5')\n",
    "\n",
    "# Setup feedback system\n",
    "from learntools.core import binder\n",
    "binder.bind(globals())\n",
    "from learntools.deep_learning_intro.ex4 import *"
   ]
  },
  {
   "cell_type": "markdown",
   "id": "255509d5",
   "metadata": {
    "papermill": {
     "duration": 0.005501,
     "end_time": "2024-10-02T00:10:41.521940",
     "exception": false,
     "start_time": "2024-10-02T00:10:41.516439",
     "status": "completed"
    },
    "tags": []
   },
   "source": [
    "First load the *Spotify* dataset. Your task will be to predict the popularity of a song based on various audio features, like `'tempo'`, `'danceability'`, and `'mode'`."
   ]
  },
  {
   "cell_type": "code",
   "execution_count": 2,
   "id": "b24d474e",
   "metadata": {
    "execution": {
     "iopub.execute_input": "2024-10-02T00:10:41.534869Z",
     "iopub.status.busy": "2024-10-02T00:10:41.534296Z",
     "iopub.status.idle": "2024-10-02T00:11:00.796897Z",
     "shell.execute_reply": "2024-10-02T00:11:00.795287Z"
    },
    "papermill": {
     "duration": 19.272038,
     "end_time": "2024-10-02T00:11:00.799500",
     "exception": false,
     "start_time": "2024-10-02T00:10:41.527462",
     "status": "completed"
    },
    "tags": []
   },
   "outputs": [
    {
     "name": "stderr",
     "output_type": "stream",
     "text": [
      "2024-10-02 00:10:46.241233: E external/local_xla/xla/stream_executor/cuda/cuda_dnn.cc:9261] Unable to register cuDNN factory: Attempting to register factory for plugin cuDNN when one has already been registered\n",
      "2024-10-02 00:10:46.241400: E external/local_xla/xla/stream_executor/cuda/cuda_fft.cc:607] Unable to register cuFFT factory: Attempting to register factory for plugin cuFFT when one has already been registered\n",
      "2024-10-02 00:10:46.417271: E external/local_xla/xla/stream_executor/cuda/cuda_blas.cc:1515] Unable to register cuBLAS factory: Attempting to register factory for plugin cuBLAS when one has already been registered\n"
     ]
    },
    {
     "name": "stdout",
     "output_type": "stream",
     "text": [
      "Input shape: [18]\n"
     ]
    }
   ],
   "source": [
    "import pandas as pd\n",
    "from sklearn.preprocessing import StandardScaler, OneHotEncoder\n",
    "from sklearn.compose import make_column_transformer\n",
    "from sklearn.model_selection import GroupShuffleSplit\n",
    "\n",
    "from tensorflow import keras\n",
    "from tensorflow.keras import layers\n",
    "from tensorflow.keras import callbacks\n",
    "\n",
    "spotify = pd.read_csv('../input/dl-course-data/spotify.csv')\n",
    "\n",
    "X = spotify.copy().dropna()\n",
    "y = X.pop('track_popularity')\n",
    "artists = X['track_artist']\n",
    "\n",
    "features_num = ['danceability', 'energy', 'key', 'loudness', 'mode',\n",
    "                'speechiness', 'acousticness', 'instrumentalness',\n",
    "                'liveness', 'valence', 'tempo', 'duration_ms']\n",
    "features_cat = ['playlist_genre']\n",
    "\n",
    "preprocessor = make_column_transformer(\n",
    "    (StandardScaler(), features_num),\n",
    "    (OneHotEncoder(), features_cat),\n",
    ")\n",
    "\n",
    "# We'll do a \"grouped\" split to keep all of an artist's songs in one\n",
    "# split or the other. This is to help prevent signal leakage.\n",
    "def group_split(X, y, group, train_size=0.75):\n",
    "    splitter = GroupShuffleSplit(train_size=train_size)\n",
    "    train, test = next(splitter.split(X, y, groups=group))\n",
    "    return (X.iloc[train], X.iloc[test], y.iloc[train], y.iloc[test])\n",
    "\n",
    "X_train, X_valid, y_train, y_valid = group_split(X, y, artists)\n",
    "\n",
    "X_train = preprocessor.fit_transform(X_train)\n",
    "X_valid = preprocessor.transform(X_valid)\n",
    "y_train = y_train / 100 # popularity is on a scale 0-100, so this rescales to 0-1.\n",
    "y_valid = y_valid / 100\n",
    "\n",
    "input_shape = [X_train.shape[1]]\n",
    "print(\"Input shape: {}\".format(input_shape))"
   ]
  },
  {
   "cell_type": "markdown",
   "id": "167fa915",
   "metadata": {
    "papermill": {
     "duration": 0.006063,
     "end_time": "2024-10-02T00:11:00.811618",
     "exception": false,
     "start_time": "2024-10-02T00:11:00.805555",
     "status": "completed"
    },
    "tags": []
   },
   "source": [
    "Let's start with the simplest network, a linear model. This model has low capacity.\n",
    "\n",
    "Run this next cell without any changes to train a linear model on the *Spotify* dataset."
   ]
  },
  {
   "cell_type": "code",
   "execution_count": 3,
   "id": "fba1519c",
   "metadata": {
    "execution": {
     "iopub.execute_input": "2024-10-02T00:11:00.825528Z",
     "iopub.status.busy": "2024-10-02T00:11:00.825085Z",
     "iopub.status.idle": "2024-10-02T00:11:08.242950Z",
     "shell.execute_reply": "2024-10-02T00:11:08.241810Z"
    },
    "lines_to_next_cell": 0,
    "papermill": {
     "duration": 7.427656,
     "end_time": "2024-10-02T00:11:08.245397",
     "exception": false,
     "start_time": "2024-10-02T00:11:00.817741",
     "status": "completed"
    },
    "tags": []
   },
   "outputs": [
    {
     "name": "stdout",
     "output_type": "stream",
     "text": [
      "Minimum Validation Loss: 0.1942\n"
     ]
    },
    {
     "data": {
      "image/png": "[encoded data removed]",
      "text/plain": [
       "<Figure size 640x480 with 1 Axes>"
      ]
     },
     "metadata": {},
     "output_type": "display_data"
    }
   ],
   "source": [
    "model = keras.Sequential([\n",
    "    layers.Dense(1, input_shape=input_shape),\n",
    "])\n",
    "model.compile(\n",
    "    optimizer='adam',\n",
    "    loss='mae',\n",
    ")\n",
    "history = model.fit(\n",
    "    X_train, y_train,\n",
    "    validation_data=(X_valid, y_valid),\n",
    "    batch_size=512,\n",
    "    epochs=50,\n",
    "    verbose=0, # suppress output since we'll plot the curves\n",
    ")\n",
    "history_df = pd.DataFrame(history.history)\n",
    "history_df.loc[0:, ['loss', 'val_loss']].plot()\n",
    "print(\"Minimum Validation Loss: {:0.4f}\".format(history_df['val_loss'].min()));"
   ]
  },
  {
   "cell_type": "markdown",
   "id": "534c140f",
   "metadata": {
    "papermill": {
     "duration": 0.005989,
     "end_time": "2024-10-02T00:11:08.258223",
     "exception": false,
     "start_time": "2024-10-02T00:11:08.252234",
     "status": "completed"
    },
    "tags": []
   },
   "source": [
    "It's not uncommon for the curves to follow a \"hockey stick\" pattern like you see here. This makes the final part of training hard to see, so let's start at epoch 10 instead:"
   ]
  },
  {
   "cell_type": "code",
   "execution_count": 4,
   "id": "5f683c16",
   "metadata": {
    "execution": {
     "iopub.execute_input": "2024-10-02T00:11:08.273205Z",
     "iopub.status.busy": "2024-10-02T00:11:08.272775Z",
     "iopub.status.idle": "2024-10-02T00:11:08.676033Z",
     "shell.execute_reply": "2024-10-02T00:11:08.674612Z"
    },
    "papermill": {
     "duration": 0.413582,
     "end_time": "2024-10-02T00:11:08.678700",
     "exception": false,
     "start_time": "2024-10-02T00:11:08.265118",
     "status": "completed"
    },
    "tags": []
   },
   "outputs": [
    {
     "name": "stdout",
     "output_type": "stream",
     "text": [
      "Minimum Validation Loss: 0.1942\n"
     ]
    },
    {
     "data": {
      "image/png": "[encoded data removed]",
      "text/plain": [
       "<Figure size 640x480 with 1 Axes>"
      ]
     },
     "metadata": {},
     "output_type": "display_data"
    }
   ],
   "source": [
    "# Start the plot at epoch 10\n",
    "history_df.loc[10:, ['loss', 'val_loss']].plot()\n",
    "print(\"Minimum Validation Loss: {:0.4f}\".format(history_df['val_loss'].min()));"
   ]
  },
  {
   "cell_type": "markdown",
   "id": "058264c4",
   "metadata": {
    "papermill": {
     "duration": 0.007355,
     "end_time": "2024-10-02T00:11:08.693053",
     "exception": false,
     "start_time": "2024-10-02T00:11:08.685698",
     "status": "completed"
    },
    "tags": []
   },
   "source": [
    "# 1) Evaluate Baseline\n",
    "\n",
    "What do you think? Would you say this model is underfitting, overfitting, just right?"
   ]
  },
  {
   "cell_type": "code",
   "execution_count": 5,
   "id": "16a10591",
   "metadata": {
    "execution": {
     "iopub.execute_input": "2024-10-02T00:11:08.709548Z",
     "iopub.status.busy": "2024-10-02T00:11:08.709077Z",
     "iopub.status.idle": "2024-10-02T00:11:08.718849Z",
     "shell.execute_reply": "2024-10-02T00:11:08.717607Z"
    },
    "papermill": {
     "duration": 0.020614,
     "end_time": "2024-10-02T00:11:08.721264",
     "exception": false,
     "start_time": "2024-10-02T00:11:08.700650",
     "status": "completed"
    },
    "tags": []
   },
   "outputs": [
    {
     "data": {
      "application/javascript": [
       "parent.postMessage({\"jupyterEvent\": \"custom.exercise_interaction\", \"data\": {\"outcomeType\": 1, \"valueTowardsCompletion\": 0.25, \"interactionType\": 1, \"questionType\": 4, \"questionId\": \"1_Q1\", \"learnToolsVersion\": \"0.3.4\", \"failureMessage\": \"\", \"exceptionClass\": \"\", \"trace\": \"\"}}, \"*\")"
      ],
      "text/plain": [
       "<IPython.core.display.Javascript object>"
      ]
     },
     "metadata": {},
     "output_type": "display_data"
    },
    {
     "data": {
      "text/markdown": [
       "<span style=\"color:#33cc33\">Correct:</span> \n",
       "\n",
       "The gap between these curves is quite small and the validation loss never increases, so it's more likely that the network is underfitting than overfitting. It would be worth experimenting with more capacity to see if that's the case."
      ],
      "text/plain": [
       "Correct: \n",
       "\n",
       "The gap between these curves is quite small and the validation loss never increases, so it's more likely that the network is underfitting than overfitting. It would be worth experimenting with more capacity to see if that's the case."
      ]
     },
     "metadata": {},
     "output_type": "display_data"
    }
   ],
   "source": [
    "# View the solution (Run this cell to receive credit!)\n",
    "q_1.check()"
   ]
  },
  {
   "cell_type": "markdown",
   "id": "283df3f1",
   "metadata": {
    "papermill": {
     "duration": 0.006919,
     "end_time": "2024-10-02T00:11:08.736408",
     "exception": false,
     "start_time": "2024-10-02T00:11:08.729489",
     "status": "completed"
    },
    "tags": []
   },
   "source": [
    "Now let's add some capacity to our network. We'll add three hidden layers with 128 units each. Run the next cell to train the network and see the learning curves."
   ]
  },
  {
   "cell_type": "code",
   "execution_count": 6,
   "id": "68f575e0",
   "metadata": {
    "execution": {
     "iopub.execute_input": "2024-10-02T00:11:08.753234Z",
     "iopub.status.busy": "2024-10-02T00:11:08.752835Z",
     "iopub.status.idle": "2024-10-02T00:11:21.217086Z",
     "shell.execute_reply": "2024-10-02T00:11:21.215786Z"
    },
    "papermill": {
     "duration": 12.476129,
     "end_time": "2024-10-02T00:11:21.219818",
     "exception": false,
     "start_time": "2024-10-02T00:11:08.743689",
     "status": "completed"
    },
    "tags": []
   },
   "outputs": [
    {
     "name": "stdout",
     "output_type": "stream",
     "text": [
      "Epoch 1/50\n",
      "49/49 [==============================] - 1s 7ms/step - loss: 0.2392 - val_loss: 0.2033\n",
      "Epoch 2/50\n",
      "49/49 [==============================] - 0s 5ms/step - loss: 0.2008 - val_loss: 0.1986\n",
      "Epoch 3/50\n",
      "49/49 [==============================] - 0s 4ms/step - loss: 0.1962 - val_loss: 0.1971\n",
      "Epoch 4/50\n",
      "49/49 [==============================] - 0s 4ms/step - loss: 0.1936 - val_loss: 0.1964\n",
      "Epoch 5/50\n",
      "49/49 [==============================] - 0s 5ms/step - loss: 0.1915 - val_loss: 0.1952\n",
      "Epoch 6/50\n",
      "49/49 [==============================] - 0s 4ms/step - loss: 0.1899 - val_loss: 0.1952\n",
      "Epoch 7/50\n",
      "49/49 [==============================] - 0s 4ms/step - loss: 0.1888 - val_loss: 0.1958\n",
      "Epoch 8/50\n",
      "49/49 [==============================] - 0s 4ms/step - loss: 0.1878 - val_loss: 0.1959\n",
      "Epoch 9/50\n",
      "49/49 [==============================] - 0s 4ms/step - loss: 0.1866 - val_loss: 0.1960\n",
      "Epoch 10/50\n",
      "49/49 [==============================] - 0s 4ms/step - loss: 0.1855 - val_loss: 0.1963\n",
      "Epoch 11/50\n",
      "49/49 [==============================] - 0s 4ms/step - loss: 0.1849 - val_loss: 0.1958\n",
      "Epoch 12/50\n",
      "49/49 [==============================] - 0s 5ms/step - loss: 0.1839 - val_loss: 0.1957\n",
      "Epoch 13/50\n",
      "49/49 [==============================] - 0s 5ms/step - loss: 0.1826 - val_loss: 0.1974\n",
      "Epoch 14/50\n",
      "49/49 [==============================] - 0s 5ms/step - loss: 0.1825 - val_loss: 0.1982\n",
      "Epoch 15/50\n",
      "49/49 [==============================] - 0s 4ms/step - loss: 0.1811 - val_loss: 0.1974\n",
      "Epoch 16/50\n",
      "49/49 [==============================] - 0s 4ms/step - loss: 0.1811 - val_loss: 0.1981\n",
      "Epoch 17/50\n",
      "49/49 [==============================] - 0s 5ms/step - loss: 0.1804 - val_loss: 0.1987\n",
      "Epoch 18/50\n",
      "49/49 [==============================] - 0s 4ms/step - loss: 0.1794 - val_loss: 0.1975\n",
      "Epoch 19/50\n",
      "49/49 [==============================] - 0s 4ms/step - loss: 0.1787 - val_loss: 0.1975\n",
      "Epoch 20/50\n",
      "49/49 [==============================] - 0s 5ms/step - loss: 0.1790 - val_loss: 0.1981\n",
      "Epoch 21/50\n",
      "49/49 [==============================] - 0s 5ms/step - loss: 0.1774 - val_loss: 0.1995\n",
      "Epoch 22/50\n",
      "49/49 [==============================] - 0s 6ms/step - loss: 0.1769 - val_loss: 0.1981\n",
      "Epoch 23/50\n",
      "49/49 [==============================] - 0s 6ms/step - loss: 0.1760 - val_loss: 0.1974\n",
      "Epoch 24/50\n",
      "49/49 [==============================] - 0s 5ms/step - loss: 0.1752 - val_loss: 0.1991\n",
      "Epoch 25/50\n",
      "49/49 [==============================] - 0s 6ms/step - loss: 0.1753 - val_loss: 0.1996\n",
      "Epoch 26/50\n",
      "49/49 [==============================] - 0s 5ms/step - loss: 0.1750 - val_loss: 0.1994\n",
      "Epoch 27/50\n",
      "49/49 [==============================] - 0s 5ms/step - loss: 0.1742 - val_loss: 0.1992\n",
      "Epoch 28/50\n",
      "49/49 [==============================] - 0s 5ms/step - loss: 0.1735 - val_loss: 0.2011\n",
      "Epoch 29/50\n",
      "49/49 [==============================] - 0s 4ms/step - loss: 0.1735 - val_loss: 0.2002\n",
      "Epoch 30/50\n",
      "49/49 [==============================] - 0s 4ms/step - loss: 0.1722 - val_loss: 0.2000\n",
      "Epoch 31/50\n",
      "49/49 [==============================] - 0s 4ms/step - loss: 0.1721 - val_loss: 0.2008\n",
      "Epoch 32/50\n",
      "49/49 [==============================] - 0s 4ms/step - loss: 0.1717 - val_loss: 0.2003\n",
      "Epoch 33/50\n",
      "49/49 [==============================] - 0s 4ms/step - loss: 0.1708 - val_loss: 0.1999\n",
      "Epoch 34/50\n",
      "49/49 [==============================] - 0s 4ms/step - loss: 0.1702 - val_loss: 0.2002\n",
      "Epoch 35/50\n",
      "49/49 [==============================] - 0s 5ms/step - loss: 0.1699 - val_loss: 0.2019\n",
      "Epoch 36/50\n",
      "49/49 [==============================] - 0s 4ms/step - loss: 0.1705 - val_loss: 0.2040\n",
      "Epoch 37/50\n",
      "49/49 [==============================] - 0s 4ms/step - loss: 0.1700 - val_loss: 0.2016\n",
      "Epoch 38/50\n",
      "49/49 [==============================] - 0s 4ms/step - loss: 0.1686 - val_loss: 0.2014\n",
      "Epoch 39/50\n",
      "49/49 [==============================] - 0s 4ms/step - loss: 0.1685 - val_loss: 0.2014\n",
      "Epoch 40/50\n",
      "49/49 [==============================] - 0s 4ms/step - loss: 0.1677 - val_loss: 0.2012\n",
      "Epoch 41/50\n",
      "49/49 [==============================] - 0s 4ms/step - loss: 0.1671 - val_loss: 0.2016\n",
      "Epoch 42/50\n",
      "49/49 [==============================] - 0s 4ms/step - loss: 0.1665 - val_loss: 0.2016\n",
      "Epoch 43/50\n",
      "49/49 [==============================] - 0s 4ms/step - loss: 0.1673 - val_loss: 0.2013\n",
      "Epoch 44/50\n",
      "49/49 [==============================] - 0s 4ms/step - loss: 0.1655 - val_loss: 0.2046\n",
      "Epoch 45/50\n",
      "49/49 [==============================] - 0s 4ms/step - loss: 0.1668 - val_loss: 0.2046\n",
      "Epoch 46/50\n",
      "49/49 [==============================] - 0s 4ms/step - loss: 0.1649 - val_loss: 0.2031\n",
      "Epoch 47/50\n",
      "49/49 [==============================] - 0s 4ms/step - loss: 0.1647 - val_loss: 0.2047\n",
      "Epoch 48/50\n",
      "49/49 [==============================] - 0s 4ms/step - loss: 0.1643 - val_loss: 0.2049\n",
      "Epoch 49/50\n",
      "49/49 [==============================] - 0s 4ms/step - loss: 0.1639 - val_loss: 0.2053\n",
      "Epoch 50/50\n",
      "49/49 [==============================] - 0s 4ms/step - loss: 0.1639 - val_loss: 0.2068\n",
      "Minimum Validation Loss: 0.1952\n"
     ]
    },
    {
     "data": {
      "image/png": "[encoded data removed]",
      "text/plain": [
       "<Figure size 640x480 with 1 Axes>"
      ]
     },
     "metadata": {},
     "output_type": "display_data"
    }
   ],
   "source": [
    "model = keras.Sequential([\n",
    "    layers.Dense(128, activation='relu', input_shape=input_shape),\n",
    "    layers.Dense(64, activation='relu'),\n",
    "    layers.Dense(1)\n",
    "])\n",
    "model.compile(\n",
    "    optimizer='adam',\n",
    "    loss='mae',\n",
    ")\n",
    "history = model.fit(\n",
    "    X_train, y_train,\n",
    "    validation_data=(X_valid, y_valid),\n",
    "    batch_size=512,\n",
    "    epochs=50,\n",
    ")\n",
    "history_df = pd.DataFrame(history.history)\n",
    "history_df.loc[:, ['loss', 'val_loss']].plot()\n",
    "print(\"Minimum Validation Loss: {:0.4f}\".format(history_df['val_loss'].min()));"
   ]
  },
  {
   "cell_type": "markdown",
   "id": "5d1ea0d6",
   "metadata": {
    "papermill": {
     "duration": 0.026523,
     "end_time": "2024-10-02T00:11:21.272249",
     "exception": false,
     "start_time": "2024-10-02T00:11:21.245726",
     "status": "completed"
    },
    "tags": []
   },
   "source": [
    "# 2) Add Capacity\n",
    "\n",
    "What is your evaluation of these curves? Underfitting, overfitting, just right?"
   ]
  },
  {
   "cell_type": "code",
   "execution_count": 7,
   "id": "d5139be9",
   "metadata": {
    "execution": {
     "iopub.execute_input": "2024-10-02T00:11:21.329078Z",
     "iopub.status.busy": "2024-10-02T00:11:21.328598Z",
     "iopub.status.idle": "2024-10-02T00:11:21.338240Z",
     "shell.execute_reply": "2024-10-02T00:11:21.336961Z"
    },
    "papermill": {
     "duration": 0.040233,
     "end_time": "2024-10-02T00:11:21.340786",
     "exception": false,
     "start_time": "2024-10-02T00:11:21.300553",
     "status": "completed"
    },
    "tags": []
   },
   "outputs": [
    {
     "data": {
      "application/javascript": [
       "parent.postMessage({\"jupyterEvent\": \"custom.exercise_interaction\", \"data\": {\"outcomeType\": 1, \"valueTowardsCompletion\": 0.25, \"interactionType\": 1, \"questionType\": 4, \"questionId\": \"2_Q2\", \"learnToolsVersion\": \"0.3.4\", \"failureMessage\": \"\", \"exceptionClass\": \"\", \"trace\": \"\"}}, \"*\")"
      ],
      "text/plain": [
       "<IPython.core.display.Javascript object>"
      ]
     },
     "metadata": {},
     "output_type": "display_data"
    },
    {
     "data": {
      "text/markdown": [
       "<span style=\"color:#33cc33\">Correct:</span> \n",
       "\n",
       "Now the validation loss begins to rise very early, while the training loss continues to decrease. This indicates that the network has begun to overfit. At this point, we would need to try something to prevent it, either by reducing the number of units or through a method like early stopping. (We'll see another in the next lesson!)"
      ],
      "text/plain": [
       "Correct: \n",
       "\n",
       "Now the validation loss begins to rise very early, while the training loss continues to decrease. This indicates that the network has begun to overfit. At this point, we would need to try something to prevent it, either by reducing the number of units or through a method like early stopping. (We'll see another in the next lesson!)"
      ]
     },
     "metadata": {},
     "output_type": "display_data"
    }
   ],
   "source": [
    "# View the solution (Run this cell to receive credit!)\n",
    "q_2.check()"
   ]
  },
  {
   "cell_type": "markdown",
   "id": "26f32796",
   "metadata": {
    "papermill": {
     "duration": 0.02577,
     "end_time": "2024-10-02T00:11:21.395222",
     "exception": false,
     "start_time": "2024-10-02T00:11:21.369452",
     "status": "completed"
    },
    "tags": []
   },
   "source": [
    "# 3) Define Early Stopping Callback\n",
    "\n",
    "Now define an early stopping callback that waits 5 epochs (`patience'`) for a change in validation loss of at least `0.001` (`min_delta`) and keeps the weights with the best loss (`restore_best_weights`)."
   ]
  },
  {
   "cell_type": "code",
   "execution_count": 8,
   "id": "92b60c3d",
   "metadata": {
    "execution": {
     "iopub.execute_input": "2024-10-02T00:11:21.451037Z",
     "iopub.status.busy": "2024-10-02T00:11:21.450577Z",
     "iopub.status.idle": "2024-10-02T00:11:21.462192Z",
     "shell.execute_reply": "2024-10-02T00:11:21.460713Z"
    },
    "lines_to_next_cell": 0,
    "papermill": {
     "duration": 0.043732,
     "end_time": "2024-10-02T00:11:21.465384",
     "exception": false,
     "start_time": "2024-10-02T00:11:21.421652",
     "status": "completed"
    },
    "tags": []
   },
   "outputs": [
    {
     "data": {
      "application/javascript": [
       "parent.postMessage({\"jupyterEvent\": \"custom.exercise_interaction\", \"data\": {\"outcomeType\": 1, \"valueTowardsCompletion\": 0.25, \"interactionType\": 1, \"questionType\": 2, \"questionId\": \"3_Q3\", \"learnToolsVersion\": \"0.3.4\", \"failureMessage\": \"\", \"exceptionClass\": \"\", \"trace\": \"\"}}, \"*\")"
      ],
      "text/plain": [
       "<IPython.core.display.Javascript object>"
      ]
     },
     "metadata": {},
     "output_type": "display_data"
    },
    {
     "data": {
      "text/markdown": [
       "<span style=\"color:#33cc33\">Correct</span>"
      ],
      "text/plain": [
       "Correct"
      ]
     },
     "metadata": {},
     "output_type": "display_data"
    }
   ],
   "source": [
    "from tensorflow.keras import callbacks\n",
    "\n",
    "# YOUR CODE HERE: define an early stopping callback\n",
    "early_stopping = callbacks.EarlyStopping(\n",
    "    patience=5,\n",
    "    min_delta=0.001,\n",
    "    restore_best_weights=True,\n",
    ")\n",
    "\n",
    "# Check your answer\n",
    "q_3.check()"
   ]
  },
  {
   "cell_type": "code",
   "execution_count": 9,
   "id": "a06ca1e5",
   "metadata": {
    "execution": {
     "iopub.execute_input": "2024-10-02T00:11:21.521238Z",
     "iopub.status.busy": "2024-10-02T00:11:21.520838Z",
     "iopub.status.idle": "2024-10-02T00:11:21.526016Z",
     "shell.execute_reply": "2024-10-02T00:11:21.524774Z"
    },
    "papermill": {
     "duration": 0.036551,
     "end_time": "2024-10-02T00:11:21.528581",
     "exception": false,
     "start_time": "2024-10-02T00:11:21.492030",
     "status": "completed"
    },
    "tags": []
   },
   "outputs": [],
   "source": [
    "# Lines below will give you a hint or solution code\n",
    "#q_3.hint()\n",
    "#q_3.solution()"
   ]
  },
  {
   "cell_type": "markdown",
   "id": "2ceaee54",
   "metadata": {
    "papermill": {
     "duration": 0.026071,
     "end_time": "2024-10-02T00:11:21.581098",
     "exception": false,
     "start_time": "2024-10-02T00:11:21.555027",
     "status": "completed"
    },
    "tags": []
   },
   "source": [
    "Now run this cell to train the model and get the learning curves. Notice the `callbacks` argument in `model.fit`."
   ]
  },
  {
   "cell_type": "code",
   "execution_count": 10,
   "id": "d295ece4",
   "metadata": {
    "execution": {
     "iopub.execute_input": "2024-10-02T00:11:21.636479Z",
     "iopub.status.busy": "2024-10-02T00:11:21.636030Z",
     "iopub.status.idle": "2024-10-02T00:11:24.715791Z",
     "shell.execute_reply": "2024-10-02T00:11:24.714578Z"
    },
    "papermill": {
     "duration": 3.1105,
     "end_time": "2024-10-02T00:11:24.718736",
     "exception": false,
     "start_time": "2024-10-02T00:11:21.608236",
     "status": "completed"
    },
    "tags": []
   },
   "outputs": [
    {
     "name": "stdout",
     "output_type": "stream",
     "text": [
      "Epoch 1/50\n",
      "49/49 [==============================] - 1s 8ms/step - loss: 0.2485 - val_loss: 0.2060\n",
      "Epoch 2/50\n",
      "49/49 [==============================] - 0s 4ms/step - loss: 0.2030 - val_loss: 0.1996\n",
      "Epoch 3/50\n",
      "49/49 [==============================] - 0s 4ms/step - loss: 0.1975 - val_loss: 0.1978\n",
      "Epoch 4/50\n",
      "49/49 [==============================] - 0s 4ms/step - loss: 0.1945 - val_loss: 0.1981\n",
      "Epoch 5/50\n",
      "49/49 [==============================] - 0s 4ms/step - loss: 0.1922 - val_loss: 0.1971\n",
      "Epoch 6/50\n",
      "49/49 [==============================] - 0s 5ms/step - loss: 0.1912 - val_loss: 0.1987\n",
      "Epoch 7/50\n",
      "49/49 [==============================] - 0s 5ms/step - loss: 0.1893 - val_loss: 0.1971\n",
      "Epoch 8/50\n",
      "49/49 [==============================] - 0s 5ms/step - loss: 0.1879 - val_loss: 0.1975\n",
      "Minimum Validation Loss: 0.1971\n"
     ]
    },
    {
     "data": {
      "image/png": "[encoded data removed]",
      "text/plain": [
       "<Figure size 640x480 with 1 Axes>"
      ]
     },
     "metadata": {},
     "output_type": "display_data"
    }
   ],
   "source": [
    "model = keras.Sequential([\n",
    "    layers.Dense(128, activation='relu', input_shape=input_shape),\n",
    "    layers.Dense(64, activation='relu'),    \n",
    "    layers.Dense(1)\n",
    "])\n",
    "model.compile(\n",
    "    optimizer='adam',\n",
    "    loss='mae',\n",
    ")\n",
    "history = model.fit(\n",
    "    X_train, y_train,\n",
    "    validation_data=(X_valid, y_valid),\n",
    "    batch_size=512,\n",
    "    epochs=50,\n",
    "    callbacks=[early_stopping]\n",
    ")\n",
    "history_df = pd.DataFrame(history.history)\n",
    "history_df.loc[:, ['loss', 'val_loss']].plot()\n",
    "print(\"Minimum Validation Loss: {:0.4f}\".format(history_df['val_loss'].min()));"
   ]
  },
  {
   "cell_type": "markdown",
   "id": "c35aa9f4",
   "metadata": {
    "papermill": {
     "duration": 0.029452,
     "end_time": "2024-10-02T00:11:24.778085",
     "exception": false,
     "start_time": "2024-10-02T00:11:24.748633",
     "status": "completed"
    },
    "tags": []
   },
   "source": [
    "# 4) Train and Interpret\n",
    "\n",
    "Was this an improvement compared to training without early stopping?"
   ]
  },
  {
   "cell_type": "code",
   "execution_count": 11,
   "id": "4e94bb36",
   "metadata": {
    "execution": {
     "iopub.execute_input": "2024-10-02T00:11:24.838143Z",
     "iopub.status.busy": "2024-10-02T00:11:24.837729Z",
     "iopub.status.idle": "2024-10-02T00:11:24.846436Z",
     "shell.execute_reply": "2024-10-02T00:11:24.845258Z"
    },
    "papermill": {
     "duration": 0.04156,
     "end_time": "2024-10-02T00:11:24.848892",
     "exception": false,
     "start_time": "2024-10-02T00:11:24.807332",
     "status": "completed"
    },
    "tags": []
   },
   "outputs": [
    {
     "data": {
      "application/javascript": [
       "parent.postMessage({\"jupyterEvent\": \"custom.exercise_interaction\", \"data\": {\"outcomeType\": 1, \"valueTowardsCompletion\": 0.25, \"interactionType\": 1, \"questionType\": 4, \"questionId\": \"4_Q4\", \"learnToolsVersion\": \"0.3.4\", \"failureMessage\": \"\", \"exceptionClass\": \"\", \"trace\": \"\"}}, \"*\")"
      ],
      "text/plain": [
       "<IPython.core.display.Javascript object>"
      ]
     },
     "metadata": {},
     "output_type": "display_data"
    },
    {
     "data": {
      "text/markdown": [
       "<span style=\"color:#33cc33\">Correct:</span> \n",
       "\n",
       "The early stopping callback did stop the training once the network began overfitting. Moreover, by including `restore_best_weights` we still get to keep the model where validation loss was lowest."
      ],
      "text/plain": [
       "Correct: \n",
       "\n",
       "The early stopping callback did stop the training once the network began overfitting. Moreover, by including `restore_best_weights` we still get to keep the model where validation loss was lowest."
      ]
     },
     "metadata": {},
     "output_type": "display_data"
    }
   ],
   "source": [
    "# View the solution (Run this cell to receive credit!)\n",
    "q_4.check()"
   ]
  },
  {
   "cell_type": "markdown",
   "id": "a5ade312",
   "metadata": {
    "papermill": {
     "duration": 0.030078,
     "end_time": "2024-10-02T00:11:24.908641",
     "exception": false,
     "start_time": "2024-10-02T00:11:24.878563",
     "status": "completed"
    },
    "tags": []
   },
   "source": [
    "If you like, try experimenting with `patience` and `min_delta` to see what difference it might make.\n",
    "\n",
    "# Keep Going #\n",
    "\n",
    "Move on to [**learn about a couple of special layers**](https://www.kaggle.com/ryanholbrook/dropout-and-batch-normalization): batch normalization and dropout."
   ]
  },
  {
   "cell_type": "markdown",
   "id": "67200422",
   "metadata": {
    "papermill": {
     "duration": 0.029277,
     "end_time": "2024-10-02T00:11:24.968158",
     "exception": false,
     "start_time": "2024-10-02T00:11:24.938881",
     "status": "completed"
    },
    "tags": []
   },
   "source": [
    "---\n",
    "\n",
    "\n",
    "\n",
    "\n",
    "*Have questions or comments? Visit the [course discussion forum](https://www.kaggle.com/learn/intro-to-deep-learning/discussion) to chat with other learners.*"
   ]
  }
 ],
 "metadata": {
  "jupytext": {
   "cell_metadata_filter": "-all",
   "formats": "ipynb"
  },
  "kaggle": {
   "accelerator": "gpu",
   "dataSources": [
    {
     "datasetId": 829369,
     "sourceId": 1480608,
     "sourceType": "datasetVersion"
    }
   ],
   "dockerImageVersionId": 30648,
   "isGpuEnabled": true,
   "isInternetEnabled": false,
   "language": "python",
   "sourceType": "notebook"
  },
  "kernelspec": {
   "display_name": "Python 3",
   "language": "python",
   "name": "python3"
  },
  "language_info": {
   "codemirror_mode": {
    "name": "ipython",
    "version": 3
   },
   "file_extension": ".py",
   "mimetype": "text/x-python",
   "name": "python",
   "nbconvert_exporter": "python",
   "pygments_lexer": "ipython3",
   "version": "3.10.13"
  },
  "papermill": {
   "default_parameters": {},
   "duration": 50.82149,
   "end_time": "2024-10-02T00:11:27.450220",
   "environment_variables": {},
   "exception": null,
   "input_path": "__notebook__.ipynb",
   "output_path": "__notebook__.ipynb",
   "parameters": {},
   "start_time": "2024-10-02T00:10:36.628730",
   "version": "2.5.0"
  }
 },
 "nbformat": 4,
 "nbformat_minor": 5
}
